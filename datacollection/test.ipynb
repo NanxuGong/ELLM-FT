{
 "cells": [
  {
   "cell_type": "code",
   "execution_count": 1,
   "outputs": [],
   "source": [
    "import torch"
   ],
   "metadata": {
    "collapsed": false,
    "pycharm": {
     "name": "#%%\n"
    }
   }
  },
  {
   "cell_type": "code",
   "execution_count": 2,
   "outputs": [],
   "source": [
    "import numpy as np"
   ],
   "metadata": {
    "collapsed": false,
    "pycharm": {
     "name": "#%%\n"
    }
   }
  },
  {
   "cell_type": "code",
   "execution_count": 4,
   "outputs": [],
   "source": [
    "r1 = torch.rand((10,10))\n",
    "y = torch.rand((10,1))"
   ],
   "metadata": {
    "collapsed": false,
    "pycharm": {
     "name": "#%%\n"
    }
   }
  },
  {
   "cell_type": "code",
   "execution_count": 5,
   "outputs": [],
   "source": [
    "from sklearn.metrics import pairwise_distances\n",
    "def eu_distance(feature, y):\n",
    "    return pairwise_distances(feature.reshape(1, -1), y.reshape(1, -1), metric='euclidean')\n",
    "\n",
    "\n",
    "def feature_distance(features, y):\n",
    "    dis_mat = []\n",
    "    for i in range(features.shape[1]):\n",
    "        tmp = []\n",
    "        for j in range(features.shape[1]):\n",
    "            tmp.append(np.abs(eu_distance(features[:, i], features[:, j])))\n",
    "        dis_mat.append(np.array(tmp))\n",
    "    dis_mat = np.array(dis_mat)\n",
    "    return dis_mat"
   ],
   "metadata": {
    "collapsed": false,
    "pycharm": {
     "name": "#%%\n"
    }
   }
  },
  {
   "cell_type": "code",
   "execution_count": 8,
   "outputs": [
    {
     "data": {
      "text/plain": "(10, 10, 1, 1)"
     },
     "execution_count": 8,
     "metadata": {},
     "output_type": "execute_result"
    }
   ],
   "source": [
    "feature_distance(r1, y)"
   ],
   "metadata": {
    "collapsed": false,
    "pycharm": {
     "name": "#%%\n"
    }
   }
  },
  {
   "cell_type": "code",
   "execution_count": 33,
   "outputs": [
    {
     "data": {
      "text/plain": "array([[[[0.        ]],\n\n        [[1.2297049 ]],\n\n        [[1.5268308 ]],\n\n        [[0.8188607 ]],\n\n        [[1.27854   ]],\n\n        [[1.0933372 ]],\n\n        [[1.0975235 ]],\n\n        [[1.2053978 ]],\n\n        [[1.0521612 ]],\n\n        [[1.3552142 ]]],\n\n\n       [[[1.2297049 ]],\n\n        [[0.        ]],\n\n        [[1.1478785 ]],\n\n        [[1.3197575 ]],\n\n        [[1.0890201 ]],\n\n        [[1.122232  ]],\n\n        [[1.157124  ]],\n\n        [[1.312699  ]],\n\n        [[1.3909881 ]],\n\n        [[1.2104784 ]]],\n\n\n       [[[1.5268308 ]],\n\n        [[1.1478785 ]],\n\n        [[0.        ]],\n\n        [[1.4117627 ]],\n\n        [[1.3840119 ]],\n\n        [[1.395941  ]],\n\n        [[1.126683  ]],\n\n        [[1.1900944 ]],\n\n        [[1.1731299 ]],\n\n        [[1.1868016 ]]],\n\n\n       [[[0.8188607 ]],\n\n        [[1.3197575 ]],\n\n        [[1.4117627 ]],\n\n        [[0.        ]],\n\n        [[1.3291006 ]],\n\n        [[1.1556325 ]],\n\n        [[1.1690428 ]],\n\n        [[1.0521064 ]],\n\n        [[0.8506017 ]],\n\n        [[1.2420349 ]]],\n\n\n       [[[1.27854   ]],\n\n        [[1.0890201 ]],\n\n        [[1.3840119 ]],\n\n        [[1.3291006 ]],\n\n        [[0.        ]],\n\n        [[1.3830404 ]],\n\n        [[1.2511529 ]],\n\n        [[1.5727537 ]],\n\n        [[1.0563371 ]],\n\n        [[0.88252044]]],\n\n\n       [[[1.0933372 ]],\n\n        [[1.122232  ]],\n\n        [[1.395941  ]],\n\n        [[1.1556325 ]],\n\n        [[1.3830404 ]],\n\n        [[0.        ]],\n\n        [[0.9300881 ]],\n\n        [[0.743995  ]],\n\n        [[1.0771204 ]],\n\n        [[1.1936578 ]]],\n\n\n       [[[1.0975235 ]],\n\n        [[1.157124  ]],\n\n        [[1.126683  ]],\n\n        [[1.1690428 ]],\n\n        [[1.2511529 ]],\n\n        [[0.9300881 ]],\n\n        [[0.        ]],\n\n        [[0.820099  ]],\n\n        [[1.0028739 ]],\n\n        [[1.156864  ]]],\n\n\n       [[[1.2053978 ]],\n\n        [[1.312699  ]],\n\n        [[1.1900944 ]],\n\n        [[1.0521064 ]],\n\n        [[1.5727537 ]],\n\n        [[0.743995  ]],\n\n        [[0.820099  ]],\n\n        [[0.        ]],\n\n        [[1.0145303 ]],\n\n        [[1.1977539 ]]],\n\n\n       [[[1.0521612 ]],\n\n        [[1.3909881 ]],\n\n        [[1.1731299 ]],\n\n        [[0.8506017 ]],\n\n        [[1.0563371 ]],\n\n        [[1.0771204 ]],\n\n        [[1.0028739 ]],\n\n        [[1.0145303 ]],\n\n        [[0.        ]],\n\n        [[0.8114475 ]]],\n\n\n       [[[1.3552142 ]],\n\n        [[1.2104784 ]],\n\n        [[1.1868016 ]],\n\n        [[1.2420349 ]],\n\n        [[0.88252044]],\n\n        [[1.1936578 ]],\n\n        [[1.156864  ]],\n\n        [[1.1977539 ]],\n\n        [[0.8114475 ]],\n\n        [[0.        ]]]], dtype=float32)"
     },
     "execution_count": 33,
     "metadata": {},
     "output_type": "execute_result"
    }
   ],
   "source": [
    "c = feature_distance(r1, y)\n",
    "c"
   ],
   "metadata": {
    "collapsed": false,
    "pycharm": {
     "name": "#%%\n"
    }
   }
  },
  {
   "cell_type": "code",
   "execution_count": 32,
   "outputs": [
    {
     "data": {
      "text/plain": "array([[[[0.        ]],\n\n        [[1.2297049 ]],\n\n        [[1.5268308 ]],\n\n        [[0.8188607 ]],\n\n        [[1.27854   ]],\n\n        [[1.093337  ]],\n\n        [[1.0975233 ]],\n\n        [[1.2053978 ]],\n\n        [[1.0521613 ]],\n\n        [[1.3552142 ]]],\n\n\n       [[[1.2297049 ]],\n\n        [[0.        ]],\n\n        [[1.1478786 ]],\n\n        [[1.3197575 ]],\n\n        [[1.0890201 ]],\n\n        [[1.122232  ]],\n\n        [[1.1571242 ]],\n\n        [[1.312699  ]],\n\n        [[1.3909881 ]],\n\n        [[1.2104783 ]]],\n\n\n       [[[1.5268308 ]],\n\n        [[1.1478786 ]],\n\n        [[0.        ]],\n\n        [[1.4117627 ]],\n\n        [[1.3840119 ]],\n\n        [[1.395941  ]],\n\n        [[1.126683  ]],\n\n        [[1.1900944 ]],\n\n        [[1.1731299 ]],\n\n        [[1.1868016 ]]],\n\n\n       [[[0.8188607 ]],\n\n        [[1.3197575 ]],\n\n        [[1.4117627 ]],\n\n        [[0.        ]],\n\n        [[1.3291006 ]],\n\n        [[1.1556326 ]],\n\n        [[1.1690428 ]],\n\n        [[1.0521064 ]],\n\n        [[0.8506017 ]],\n\n        [[1.2420349 ]]],\n\n\n       [[[1.27854   ]],\n\n        [[1.0890201 ]],\n\n        [[1.3840119 ]],\n\n        [[1.3291006 ]],\n\n        [[0.        ]],\n\n        [[1.3830404 ]],\n\n        [[1.2511529 ]],\n\n        [[1.5727537 ]],\n\n        [[1.0563371 ]],\n\n        [[0.88252044]]],\n\n\n       [[[1.093337  ]],\n\n        [[1.122232  ]],\n\n        [[1.395941  ]],\n\n        [[1.1556326 ]],\n\n        [[1.3830404 ]],\n\n        [[0.        ]],\n\n        [[0.9300881 ]],\n\n        [[0.743995  ]],\n\n        [[1.0771204 ]],\n\n        [[1.1936578 ]]],\n\n\n       [[[1.0975233 ]],\n\n        [[1.1571242 ]],\n\n        [[1.126683  ]],\n\n        [[1.1690428 ]],\n\n        [[1.2511529 ]],\n\n        [[0.9300881 ]],\n\n        [[0.        ]],\n\n        [[0.82009906]],\n\n        [[1.0028739 ]],\n\n        [[1.1568642 ]]],\n\n\n       [[[1.2053978 ]],\n\n        [[1.312699  ]],\n\n        [[1.1900944 ]],\n\n        [[1.0521064 ]],\n\n        [[1.5727537 ]],\n\n        [[0.743995  ]],\n\n        [[0.82009906]],\n\n        [[0.        ]],\n\n        [[1.0145303 ]],\n\n        [[1.1977539 ]]],\n\n\n       [[[1.0521613 ]],\n\n        [[1.3909881 ]],\n\n        [[1.1731299 ]],\n\n        [[0.8506017 ]],\n\n        [[1.0563371 ]],\n\n        [[1.0771204 ]],\n\n        [[1.0028739 ]],\n\n        [[1.0145303 ]],\n\n        [[0.        ]],\n\n        [[0.8114475 ]]],\n\n\n       [[[1.3552142 ]],\n\n        [[1.2104783 ]],\n\n        [[1.1868016 ]],\n\n        [[1.2420349 ]],\n\n        [[0.88252044]],\n\n        [[1.1936578 ]],\n\n        [[1.1568642 ]],\n\n        [[1.1977539 ]],\n\n        [[0.8114475 ]],\n\n        [[0.        ]]]], dtype=float32)"
     },
     "execution_count": 32,
     "metadata": {},
     "output_type": "execute_result"
    }
   ],
   "source": [
    "torch.cdist(r1.transpose(-1,0) , r1.transpose(-1,0), p=2.0, compute_mode='use_mm_for_euclid_dist_if_necessary').unsqueeze(-1).unsqueeze(-1).numpy()"
   ],
   "metadata": {
    "collapsed": false,
    "pycharm": {
     "name": "#%%\n"
    }
   }
  },
  {
   "cell_type": "code",
   "execution_count": 23,
   "outputs": [
    {
     "data": {
      "text/plain": "array([[1.2297049]], dtype=float32)"
     },
     "execution_count": 23,
     "metadata": {},
     "output_type": "execute_result"
    }
   ],
   "source": [
    "pairwise_distances(r1[:,0].reshape(1, -1), r1[:,1].reshape(1, -1), metric='euclidean')"
   ],
   "metadata": {
    "collapsed": false,
    "pycharm": {
     "name": "#%%\n"
    }
   }
  },
  {
   "cell_type": "code",
   "execution_count": null,
   "outputs": [],
   "source": [],
   "metadata": {
    "collapsed": false,
    "pycharm": {
     "name": "#%%\n"
    }
   }
  }
 ],
 "metadata": {
  "kernelspec": {
   "display_name": "Python 3",
   "language": "python",
   "name": "python3"
  },
  "language_info": {
   "codemirror_mode": {
    "name": "ipython",
    "version": 2
   },
   "file_extension": ".py",
   "mimetype": "text/x-python",
   "name": "python",
   "nbconvert_exporter": "python",
   "pygments_lexer": "ipython2",
   "version": "2.7.6"
  }
 },
 "nbformat": 4,
 "nbformat_minor": 0
}